{
 "cells": [
  {
   "cell_type": "code",
   "execution_count": 2,
   "id": "2246cfcc-7836-4a34-9703-465e2984a9fd",
   "metadata": {},
   "outputs": [],
   "source": [
    "from pandas_datareader import data\n",
    "import datetime\n",
    "from bokeh.plotting import figure, show, output_file\n",
    "\n",
    "start=datetime.datetime(2021,1,1)\n",
    "end=datetime.datetime(2021,5,31)\n",
    "df=data.DataReader(name=\"TSLA\", data_source=\"yahoo\", start=start, end=end)\n",
    "\n",
    "def inc_dec(c, o):\n",
    "    if c > o:\n",
    "        value=\"Increase\"\n",
    "    elif c < o:\n",
    "        value=\"Decrease\"\n",
    "    else:\n",
    "        value=\"Equal\"\n",
    "    return value\n",
    "df[\"Status\"]=[inc_dec(c, o) for c, o in zip(df.Close, df.Open)]\n",
    "\n",
    "\n",
    "df[\"Middle\"]=(df.Open+df.Close)/2\n",
    "df[\"Height\"]=abs(df.Close-df.Open)\n",
    "\n",
    "p=figure(x_axis_type='datetime', width=1000, height=300, sizing_mode = \"scale_width\")\n",
    "p.title=\"Tesla Inc\"\n",
    "p.grid.grid_line_alpha=0.3\n",
    "hrs_12 = 12*60*60*1000\n",
    "p.segment(df.index, df.High, df.index, df.Low, color=\"Black\")\n",
    "\n",
    "p.rect(df.index[df.Status==\"Increase\"],df.Middle[df.Status==\"Increase\"], hrs_12, \n",
    "       df.Height[df.Status==\"Increase\"], fill_color=\"#00A86B\", line_color=\"Black\")\n",
    "p.rect(df.index[df.Status==\"Decrease\"],df.Middle[df.Status==\"Decrease\"], hrs_12, \n",
    "       df.Height[df.Status==\"Decrease\"], fill_color=\"#E32636\", line_color=\"Black\")\n",
    "\n",
    "output_file(\"stockprice.html\")\n",
    "show(p)"
   ]
  },
  {
   "cell_type": "code",
   "execution_count": null,
   "id": "7c33c4e4-356b-4af8-a5f3-37d24fd9bcc1",
   "metadata": {},
   "outputs": [],
   "source": []
  },
  {
   "cell_type": "code",
   "execution_count": null,
   "id": "3f949935-7f61-4ffc-ace2-a2013ddc1f7c",
   "metadata": {},
   "outputs": [],
   "source": []
  },
  {
   "cell_type": "code",
   "execution_count": null,
   "id": "4bafd638-4c80-4463-95bc-d4ea28210bb8",
   "metadata": {},
   "outputs": [],
   "source": []
  },
  {
   "cell_type": "code",
   "execution_count": null,
   "id": "a9920dd1-a7b0-4667-974a-65126d8d74b9",
   "metadata": {},
   "outputs": [],
   "source": []
  },
  {
   "cell_type": "code",
   "execution_count": null,
   "id": "5c161288-250e-43f0-af83-95006156d615",
   "metadata": {},
   "outputs": [],
   "source": []
  },
  {
   "cell_type": "code",
   "execution_count": null,
   "id": "9bbf70e7-6cd7-4be3-9b27-8078ce0cbb76",
   "metadata": {},
   "outputs": [],
   "source": []
  },
  {
   "cell_type": "code",
   "execution_count": null,
   "id": "dc76cd70-c0e6-4e18-b912-df8a7e98643e",
   "metadata": {},
   "outputs": [],
   "source": []
  },
  {
   "cell_type": "code",
   "execution_count": null,
   "id": "c65d1f05-87d1-4660-bcbd-c5bfe0ac519c",
   "metadata": {},
   "outputs": [],
   "source": []
  },
  {
   "cell_type": "code",
   "execution_count": null,
   "id": "50dc82c4-371d-4d54-8bd2-cfa34a2ede0f",
   "metadata": {},
   "outputs": [],
   "source": []
  },
  {
   "cell_type": "code",
   "execution_count": null,
   "id": "61c98da8-fa6e-4f48-b9e6-1cd7e047b9a2",
   "metadata": {},
   "outputs": [],
   "source": []
  },
  {
   "cell_type": "code",
   "execution_count": null,
   "id": "0c4353b0-ecc4-43c8-82ab-a35057d35f51",
   "metadata": {},
   "outputs": [],
   "source": []
  },
  {
   "cell_type": "code",
   "execution_count": null,
   "id": "770ab723-e090-4045-9584-7c77d9efa9ef",
   "metadata": {},
   "outputs": [],
   "source": []
  },
  {
   "cell_type": "code",
   "execution_count": null,
   "id": "251878b8-d012-45e1-a9f3-87042bc8a0ff",
   "metadata": {},
   "outputs": [],
   "source": []
  },
  {
   "cell_type": "code",
   "execution_count": null,
   "id": "cf5d22db-25f7-4d81-ab40-de5be59c0e96",
   "metadata": {},
   "outputs": [],
   "source": []
  },
  {
   "cell_type": "code",
   "execution_count": null,
   "id": "e35c7086-4812-447c-bd2a-7ff47c3de663",
   "metadata": {},
   "outputs": [],
   "source": []
  },
  {
   "cell_type": "code",
   "execution_count": null,
   "id": "df4312ff-a083-42b2-9e0d-2a96dd257f67",
   "metadata": {},
   "outputs": [],
   "source": []
  },
  {
   "cell_type": "code",
   "execution_count": null,
   "id": "27e05c46-e1df-431d-ab1c-f2600882d63c",
   "metadata": {},
   "outputs": [],
   "source": []
  },
  {
   "cell_type": "code",
   "execution_count": null,
   "id": "14d8f989-66cb-4593-bc9b-c84bfecdcec4",
   "metadata": {},
   "outputs": [],
   "source": []
  },
  {
   "cell_type": "code",
   "execution_count": null,
   "id": "cb3c71b2-a9c8-4d22-b8e2-dfa29c185a6e",
   "metadata": {},
   "outputs": [],
   "source": []
  },
  {
   "cell_type": "code",
   "execution_count": null,
   "id": "f3493514-90eb-41a0-93d5-24084e55da53",
   "metadata": {},
   "outputs": [],
   "source": []
  },
  {
   "cell_type": "code",
   "execution_count": null,
   "id": "fe165d25-f7d9-4d02-a772-08bd08f5ada2",
   "metadata": {},
   "outputs": [],
   "source": []
  },
  {
   "cell_type": "code",
   "execution_count": null,
   "id": "511a5aeb-282a-493a-96c2-a1318c5ed7b0",
   "metadata": {},
   "outputs": [],
   "source": []
  },
  {
   "cell_type": "code",
   "execution_count": null,
   "id": "df83baae-ac34-4626-b0d1-859b13e3c06e",
   "metadata": {},
   "outputs": [],
   "source": []
  },
  {
   "cell_type": "code",
   "execution_count": null,
   "id": "b001743a-4232-4b98-986b-97ee66291273",
   "metadata": {},
   "outputs": [],
   "source": []
  },
  {
   "cell_type": "code",
   "execution_count": null,
   "id": "5f116371-e2da-42ba-b18d-55de7fea768e",
   "metadata": {},
   "outputs": [],
   "source": []
  },
  {
   "cell_type": "code",
   "execution_count": null,
   "id": "ad00d4ef-bf51-42a5-85be-9fb5d7752fb2",
   "metadata": {},
   "outputs": [],
   "source": []
  },
  {
   "cell_type": "code",
   "execution_count": null,
   "id": "5bd2a713-f7b1-4546-b276-a7ef1cc6bbb1",
   "metadata": {},
   "outputs": [],
   "source": []
  },
  {
   "cell_type": "code",
   "execution_count": null,
   "id": "d99c8daf-f0a5-4098-b281-a8b971e2fa43",
   "metadata": {},
   "outputs": [],
   "source": []
  },
  {
   "cell_type": "code",
   "execution_count": null,
   "id": "6df3b763-d737-4f04-b690-269cf24ab99e",
   "metadata": {},
   "outputs": [],
   "source": []
  },
  {
   "cell_type": "code",
   "execution_count": null,
   "id": "fc311035-08f6-46ea-a92f-6d7015710f61",
   "metadata": {},
   "outputs": [],
   "source": []
  },
  {
   "cell_type": "code",
   "execution_count": null,
   "id": "806fc7dc-e785-4bde-98c3-41ed29785af7",
   "metadata": {},
   "outputs": [],
   "source": []
  },
  {
   "cell_type": "code",
   "execution_count": null,
   "id": "f86d0576-76fa-43db-8edf-b65d3b816da8",
   "metadata": {},
   "outputs": [],
   "source": []
  },
  {
   "cell_type": "code",
   "execution_count": null,
   "id": "78d98e61-e49f-4c74-b11b-93cfb1d732e0",
   "metadata": {},
   "outputs": [],
   "source": []
  },
  {
   "cell_type": "code",
   "execution_count": null,
   "id": "3b0e8bc4-7985-49ad-b560-f371e972d760",
   "metadata": {},
   "outputs": [],
   "source": []
  },
  {
   "cell_type": "code",
   "execution_count": null,
   "id": "99a33038-eab1-4b85-abf6-693f3b5bebae",
   "metadata": {},
   "outputs": [],
   "source": []
  },
  {
   "cell_type": "code",
   "execution_count": null,
   "id": "0fd2ddef-1de2-477d-8cdf-69dad3145b81",
   "metadata": {},
   "outputs": [],
   "source": []
  },
  {
   "cell_type": "code",
   "execution_count": null,
   "id": "7f4a6398-909b-4b0c-8f9f-07110bb792af",
   "metadata": {},
   "outputs": [],
   "source": []
  },
  {
   "cell_type": "code",
   "execution_count": null,
   "id": "f8fcc205-025f-4429-8a8a-184a0441a5d0",
   "metadata": {},
   "outputs": [],
   "source": []
  },
  {
   "cell_type": "code",
   "execution_count": null,
   "id": "9e16c4c6-e0aa-4768-9a25-b5caf1b15f59",
   "metadata": {},
   "outputs": [],
   "source": []
  },
  {
   "cell_type": "code",
   "execution_count": null,
   "id": "6363c0d4-0e04-4ffb-86c8-feb8681a5cdc",
   "metadata": {},
   "outputs": [],
   "source": []
  },
  {
   "cell_type": "code",
   "execution_count": null,
   "id": "c23e7662-9dd3-4db3-be5f-a9c585dcb2c6",
   "metadata": {},
   "outputs": [],
   "source": []
  },
  {
   "cell_type": "code",
   "execution_count": null,
   "id": "93d16474-b8ce-494d-90df-7855574891b9",
   "metadata": {},
   "outputs": [],
   "source": []
  },
  {
   "cell_type": "code",
   "execution_count": null,
   "id": "06e0f27f-990e-4af2-917f-8fb6abb79055",
   "metadata": {},
   "outputs": [],
   "source": []
  },
  {
   "cell_type": "code",
   "execution_count": null,
   "id": "c49f405c-06b4-4ac7-a0ad-ee099e47f413",
   "metadata": {},
   "outputs": [],
   "source": []
  },
  {
   "cell_type": "code",
   "execution_count": null,
   "id": "0601fc6c-c1ed-406d-adeb-702b9e6f69c6",
   "metadata": {},
   "outputs": [],
   "source": []
  },
  {
   "cell_type": "code",
   "execution_count": null,
   "id": "c536557d-fb9c-4be5-b4d3-b644e652a64e",
   "metadata": {},
   "outputs": [],
   "source": []
  },
  {
   "cell_type": "code",
   "execution_count": null,
   "id": "110fdc1c-2dba-475f-8b6e-8addcc1b6712",
   "metadata": {},
   "outputs": [],
   "source": []
  },
  {
   "cell_type": "code",
   "execution_count": null,
   "id": "558e5723-8812-451b-a38e-60104a0435c1",
   "metadata": {},
   "outputs": [],
   "source": []
  },
  {
   "cell_type": "code",
   "execution_count": null,
   "id": "30b32838-4cc7-4961-b54e-4ea92ff2b1cd",
   "metadata": {},
   "outputs": [],
   "source": []
  },
  {
   "cell_type": "code",
   "execution_count": null,
   "id": "8e6ac28f-b1f2-41f6-8761-38f88085ed26",
   "metadata": {},
   "outputs": [],
   "source": []
  },
  {
   "cell_type": "code",
   "execution_count": null,
   "id": "7872bc71-8c0a-4c78-8476-a460d7d6cae0",
   "metadata": {},
   "outputs": [],
   "source": []
  },
  {
   "cell_type": "code",
   "execution_count": null,
   "id": "a2beff2d-402f-4141-b092-dd01585cfadc",
   "metadata": {},
   "outputs": [],
   "source": []
  },
  {
   "cell_type": "code",
   "execution_count": null,
   "id": "989acfa6-2bb0-439a-b147-25d82c48f92a",
   "metadata": {},
   "outputs": [],
   "source": []
  },
  {
   "cell_type": "code",
   "execution_count": null,
   "id": "7bb45a83-8f41-420f-acc0-cee06a4b1678",
   "metadata": {},
   "outputs": [],
   "source": []
  },
  {
   "cell_type": "code",
   "execution_count": null,
   "id": "578fa8ad-94aa-4fa8-8bf8-873a75b8453d",
   "metadata": {},
   "outputs": [],
   "source": []
  }
 ],
 "metadata": {
  "kernelspec": {
   "display_name": "Python 3",
   "language": "python",
   "name": "python3"
  },
  "language_info": {
   "codemirror_mode": {
    "name": "ipython",
    "version": 3
   },
   "file_extension": ".py",
   "mimetype": "text/x-python",
   "name": "python",
   "nbconvert_exporter": "python",
   "pygments_lexer": "ipython3",
   "version": "3.9.5"
  }
 },
 "nbformat": 4,
 "nbformat_minor": 5
}
